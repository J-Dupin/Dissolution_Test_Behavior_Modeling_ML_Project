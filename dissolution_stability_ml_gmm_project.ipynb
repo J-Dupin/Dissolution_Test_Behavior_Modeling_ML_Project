{
 "cells": [
  {
   "cell_type": "markdown",
   "id": "6a294d4b",
   "metadata": {},
   "source": [
    "# Dissolution Stability Machine Learning Project Using a Gaussian Mixture Model\n",
    "\n",
    "## Project Overview – Analyzing Dissolution Test Data with Gaussian Mixture Models\n",
    "\n",
    "**Goal:**  \n",
    "Use FDA Dissolution Methods metadata + synthetic dissolution profiles to identify clusters of dissolution behaviors (\"fast,\" \"medium,\" \"slow\").  \n",
    "\n",
    "**Steps:**  \n",
    "1. Feature Engineering from FDA database  \n",
    "2. Synthetic Profile Generation using kinetic models  \n",
    "3. GMM clustering and visualization  \n",
    "4. Interpretation & discussion of pharma relevance"
   ]
  },
  {
   "cell_type": "markdown",
   "id": "76719834",
   "metadata": {},
   "source": [
    "1. Problem defintion\n",
    "2. Data\n",
    "3. Evaluation\n",
    "4. Features\n",
    "5. Modelling\n",
    "6. Experiments"
   ]
  },
  {
   "cell_type": "markdown",
   "id": "6f32413d",
   "metadata": {},
   "source": [
    "### 1. Notebook Setup\n",
    "\n",
    "Getting all the tools ready in the project's virtual environment."
   ]
  },
  {
   "cell_type": "code",
   "execution_count": 1,
   "id": "8170062e",
   "metadata": {},
   "outputs": [],
   "source": [
    "# Setup matplotlib to plot inline (within the notebook)\n",
    "%matplotlib inline\n",
    "\n",
    "# Core libraries\n",
    "import pandas as pd\n",
    "import numpy as np\n",
    "import re\n",
    "\n",
    "# Visualization\n",
    "import matplotlib.pyplot as plt\n",
    "import seaborn as sns\n",
    "import plotly.express as px\n",
    "\n",
    "# Modeling\n",
    "from sklearn.preprocessing import StandardScaler\n",
    "from sklearn.mixture import GaussianMixture\n",
    "from sklearn.metrics import silhouette_score\n",
    "\n",
    "# Utility\n",
    "from tqdm import tqdm"
   ]
  },
  {
   "cell_type": "markdown",
   "id": "164d069a",
   "metadata": {},
   "source": [
    "### 2. Data Acquisition\n",
    "\n",
    "The FDA Dissolution Methods Database contains:\n",
    "- Dosage form\n",
    "- Apparatus type\n",
    "- Agitation speed (RPM)\n",
    "- Medium type & volume\n",
    "- Sampling times\n",
    "\n",
    "These features can be parsed into a structured table for feature engineering."
   ]
  },
  {
   "cell_type": "markdown",
   "id": "f19841f9",
   "metadata": {},
   "source": [
    "Loading the dataset (if dataset is real and available)."
   ]
  },
  {
   "cell_type": "code",
   "execution_count": 2,
   "id": "e52f0746",
   "metadata": {},
   "outputs": [
    {
     "name": "stdout",
     "output_type": "stream",
     "text": [
      "<class 'pandas.core.frame.DataFrame'>\n",
      "RangeIndex: 1568 entries, 0 to 1567\n",
      "Data columns (total 8 columns):\n",
      " #   Column                                Non-Null Count  Dtype \n",
      "---  ------                                --------------  ----- \n",
      " 0   Drug Name                             1568 non-null   object\n",
      " 1   Dosage Form                           1568 non-null   object\n",
      " 2   USP Apparatus                         805 non-null    object\n",
      " 3   Speed (RPMs)                          800 non-null    object\n",
      " 4   Medium                                1568 non-null   object\n",
      " 5   Volume (mL)                           792 non-null    object\n",
      " 6   Recommended Sampling Times (minutes)  803 non-null    object\n",
      " 7   Date Updated                          1568 non-null   object\n",
      "dtypes: object(8)\n",
      "memory usage: 98.1+ KB\n"
     ]
    },
    {
     "data": {
      "application/vnd.microsoft.datawrangler.viewer.v0+json": {
       "columns": [
        {
         "name": "index",
         "rawType": "int64",
         "type": "integer"
        },
        {
         "name": "Drug Name",
         "rawType": "object",
         "type": "string"
        },
        {
         "name": "Dosage Form",
         "rawType": "object",
         "type": "string"
        },
        {
         "name": "USP Apparatus",
         "rawType": "object",
         "type": "unknown"
        },
        {
         "name": "Speed (RPMs)",
         "rawType": "object",
         "type": "unknown"
        },
        {
         "name": "Medium",
         "rawType": "object",
         "type": "string"
        },
        {
         "name": "Volume (mL)",
         "rawType": "object",
         "type": "unknown"
        },
        {
         "name": "Recommended Sampling Times (minutes)",
         "rawType": "object",
         "type": "unknown"
        },
        {
         "name": "Date Updated",
         "rawType": "object",
         "type": "string"
        }
       ],
       "ref": "9014c5f7-f3de-4a74-ac48-aa482fb766c5",
       "rows": [
        [
         "0",
         "Abacavir Sulfate",
         "Tablet",
         null,
         null,
         "Refer to FDA's Dissolution Guidance, 2018",
         null,
         null,
         "07/02/2020"
        ],
        [
         "1",
         "Abacavir Sulfate/Dolutegravir Sodium/Lamivudine",
         "Tablet",
         "II (Paddle)",
         "85",
         "0.01 M Phosphate Buffer with 0.5% sodium dodecyl sulfate (SDS), pH 6.8",
         "900",
         "Abacavir and lamivudine: 10, 15, 20, 30 and 45; Dolutegravir: 5,15, 25, 35 and 45.",
         "05/28/2015"
        ],
        [
         "2",
         "Abacavir Sulfate/Dolutegravir Sodium/Lamivudine",
         "Tablet (For Suspension)",
         "II (Paddle)",
         "50",
         "0.01 M Phosphate Buffer with 0.5 mM EDTA, pH 6.8",
         "500",
         "5, 10, 15, 30, 45 and 60",
         "10/06/2023"
        ],
        [
         "3",
         "Abacavir Sulfate/Lamivudine",
         "Tablet",
         "II (Paddle)",
         "75",
         "0.1 N HCl",
         "900",
         "10, 20, 30, and 45 ",
         "01/03/2007"
        ],
        [
         "4",
         "Abacavir Sulfate/Lamivudine/Zidovudine",
         "Tablet",
         "II (Paddle)",
         "75",
         "0.1 N HCl",
         "Acid Stage: 900 mL; Buffer Stage: 1000 mL",
         "5, 10, 15, 30 and 45",
         "01/03/2007"
        ]
       ],
       "shape": {
        "columns": 8,
        "rows": 5
       }
      },
      "text/html": [
       "<div>\n",
       "<style scoped>\n",
       "    .dataframe tbody tr th:only-of-type {\n",
       "        vertical-align: middle;\n",
       "    }\n",
       "\n",
       "    .dataframe tbody tr th {\n",
       "        vertical-align: top;\n",
       "    }\n",
       "\n",
       "    .dataframe thead th {\n",
       "        text-align: right;\n",
       "    }\n",
       "</style>\n",
       "<table border=\"1\" class=\"dataframe\">\n",
       "  <thead>\n",
       "    <tr style=\"text-align: right;\">\n",
       "      <th></th>\n",
       "      <th>Drug Name</th>\n",
       "      <th>Dosage Form</th>\n",
       "      <th>USP Apparatus</th>\n",
       "      <th>Speed (RPMs)</th>\n",
       "      <th>Medium</th>\n",
       "      <th>Volume (mL)</th>\n",
       "      <th>Recommended Sampling Times (minutes)</th>\n",
       "      <th>Date Updated</th>\n",
       "    </tr>\n",
       "  </thead>\n",
       "  <tbody>\n",
       "    <tr>\n",
       "      <th>0</th>\n",
       "      <td>Abacavir Sulfate</td>\n",
       "      <td>Tablet</td>\n",
       "      <td>NaN</td>\n",
       "      <td>NaN</td>\n",
       "      <td>Refer to FDA's Dissolution Guidance, 2018</td>\n",
       "      <td>NaN</td>\n",
       "      <td>NaN</td>\n",
       "      <td>07/02/2020</td>\n",
       "    </tr>\n",
       "    <tr>\n",
       "      <th>1</th>\n",
       "      <td>Abacavir Sulfate/Dolutegravir Sodium/Lamivudine</td>\n",
       "      <td>Tablet</td>\n",
       "      <td>II (Paddle)</td>\n",
       "      <td>85</td>\n",
       "      <td>0.01 M Phosphate Buffer with 0.5% sodium dodec...</td>\n",
       "      <td>900</td>\n",
       "      <td>Abacavir and lamivudine: 10, 15, 20, 30 and 45...</td>\n",
       "      <td>05/28/2015</td>\n",
       "    </tr>\n",
       "    <tr>\n",
       "      <th>2</th>\n",
       "      <td>Abacavir Sulfate/Dolutegravir Sodium/Lamivudine</td>\n",
       "      <td>Tablet (For Suspension)</td>\n",
       "      <td>II (Paddle)</td>\n",
       "      <td>50</td>\n",
       "      <td>0.01 M Phosphate Buffer with 0.5 mM EDTA, pH 6.8</td>\n",
       "      <td>500</td>\n",
       "      <td>5, 10, 15, 30, 45 and 60</td>\n",
       "      <td>10/06/2023</td>\n",
       "    </tr>\n",
       "    <tr>\n",
       "      <th>3</th>\n",
       "      <td>Abacavir Sulfate/Lamivudine</td>\n",
       "      <td>Tablet</td>\n",
       "      <td>II (Paddle)</td>\n",
       "      <td>75</td>\n",
       "      <td>0.1 N HCl</td>\n",
       "      <td>900</td>\n",
       "      <td>10, 20, 30, and 45</td>\n",
       "      <td>01/03/2007</td>\n",
       "    </tr>\n",
       "    <tr>\n",
       "      <th>4</th>\n",
       "      <td>Abacavir Sulfate/Lamivudine/Zidovudine</td>\n",
       "      <td>Tablet</td>\n",
       "      <td>II (Paddle)</td>\n",
       "      <td>75</td>\n",
       "      <td>0.1 N HCl</td>\n",
       "      <td>Acid Stage: 900 mL; Buffer Stage: 1000 mL</td>\n",
       "      <td>5, 10, 15, 30 and 45</td>\n",
       "      <td>01/03/2007</td>\n",
       "    </tr>\n",
       "  </tbody>\n",
       "</table>\n",
       "</div>"
      ],
      "text/plain": [
       "                                         Drug Name              Dosage Form  \\\n",
       "0                                 Abacavir Sulfate                   Tablet   \n",
       "1  Abacavir Sulfate/Dolutegravir Sodium/Lamivudine                   Tablet   \n",
       "2  Abacavir Sulfate/Dolutegravir Sodium/Lamivudine  Tablet (For Suspension)   \n",
       "3                      Abacavir Sulfate/Lamivudine                   Tablet   \n",
       "4           Abacavir Sulfate/Lamivudine/Zidovudine                   Tablet   \n",
       "\n",
       "  USP Apparatus Speed (RPMs)  \\\n",
       "0           NaN          NaN   \n",
       "1   II (Paddle)           85   \n",
       "2   II (Paddle)           50   \n",
       "3   II (Paddle)           75   \n",
       "4   II (Paddle)           75   \n",
       "\n",
       "                                              Medium  \\\n",
       "0          Refer to FDA's Dissolution Guidance, 2018   \n",
       "1  0.01 M Phosphate Buffer with 0.5% sodium dodec...   \n",
       "2   0.01 M Phosphate Buffer with 0.5 mM EDTA, pH 6.8   \n",
       "3                                          0.1 N HCl   \n",
       "4                                          0.1 N HCl   \n",
       "\n",
       "                                 Volume (mL)  \\\n",
       "0                                        NaN   \n",
       "1                                        900   \n",
       "2                                        500   \n",
       "3                                        900   \n",
       "4  Acid Stage: 900 mL; Buffer Stage: 1000 mL   \n",
       "\n",
       "                Recommended Sampling Times (minutes) Date Updated  \n",
       "0                                                NaN   07/02/2020  \n",
       "1  Abacavir and lamivudine: 10, 15, 20, 30 and 45...   05/28/2015  \n",
       "2                           5, 10, 15, 30, 45 and 60   10/06/2023  \n",
       "3                                10, 20, 30, and 45    01/03/2007  \n",
       "4                               5, 10, 15, 30 and 45   01/03/2007  "
      ]
     },
     "execution_count": 2,
     "metadata": {},
     "output_type": "execute_result"
    }
   ],
   "source": [
    "# Import dataset from CSV file or URL\n",
    "df = pd.read_csv(\"Dissolution Methods.csv\")\n",
    "\n",
    "# Quick check to view the data\n",
    "df.info()\n",
    "df.head()"
   ]
  },
  {
   "cell_type": "markdown",
   "id": "dcb73f5a",
   "metadata": {},
   "source": [
    "Simulating the dataset (if dataset if not available). (OPTIONAL)"
   ]
  },
  {
   "cell_type": "code",
   "execution_count": 3,
   "id": "56078b70",
   "metadata": {},
   "outputs": [],
   "source": [
    "# # Simulating dissolution test metrics for 200 batches\n",
    "# np.random.seed(42)\n",
    "# fast_group = np.random.normal(\n",
    "#     loc=90, scale=5, size=(100, 3))  # high % dissolved\n",
    "# slow_group = np.random.normal(\n",
    "#     loc=60, scale=5, size=(100, 3))  # lower % dissolved\n",
    "# synthetic_data = np.vstack([fast_group, slow_group])\n",
    "\n",
    "# df = pd.DataFrame(synthetic_data, columns=[\"% Dissolved @ 5min\", \"% Dissolved @ 10min\", \"% Dissolved @ 15min\"])"
   ]
  },
  {
   "cell_type": "markdown",
   "id": "f9532bf3",
   "metadata": {},
   "source": [
    "### 3. Data Cleaning, Preprocessing, and Feature Engineering\n",
    "\n",
    "Prepare the dataset for use within the model. Convert the FDA method metadata into ML-ready features:\n",
    "\n",
    "- Apparatus → categorical → one-hot encode  \n",
    "- Medium type → categorical → one-hot encode  \n",
    "- RPM → numerical  \n",
    "- Medium volume → numerical  \n",
    "- Sampling times → numerical summary features (e.g., # of samples, max time)  "
   ]
  },
  {
   "cell_type": "markdown",
   "id": "9701d62e",
   "metadata": {},
   "source": [
    "#### 3.1. Data Cleaning\n",
    "\n",
    "Ensuring numerical features are clean and scaled."
   ]
  },
  {
   "cell_type": "code",
   "execution_count": 4,
   "id": "db9bec78",
   "metadata": {},
   "outputs": [
    {
     "data": {
      "application/vnd.microsoft.datawrangler.viewer.v0+json": {
       "columns": [
        {
         "name": "Dosage Form",
         "rawType": "object",
         "type": "string"
        },
        {
         "name": "count",
         "rawType": "int64",
         "type": "integer"
        }
       ],
       "ref": "58af72f8-512d-4a41-9d60-77781219d433",
       "rows": [
        [
         "Tablet",
         "642"
        ],
        [
         "Capsule",
         "239"
        ],
        [
         "Tablet ",
         "99"
        ],
        [
         "Tablet (Extended Release)",
         "68"
        ],
        [
         "Suspension",
         "55"
        ],
        [
         "Capsule (Extended Release)",
         "35"
        ],
        [
         "Tablet (Extended Release) ",
         "31"
        ],
        [
         "Tablet (Chewable)",
         "24"
        ],
        [
         "Tablet (Orally Disintegrating)",
         "19"
        ],
        [
         "Oral Suspension",
         "15"
        ],
        [
         "Tablet (Extended Release)  ",
         "15"
        ],
        [
         "Capsule (Extended Release) ",
         "14"
        ],
        [
         "Tablet (Delayed Release)",
         "13"
        ],
        [
         "Capsule ",
         "12"
        ],
        [
         "Capsule (Delayed Release)",
         "12"
        ],
        [
         "Tablet (Delayed Release) ",
         "9"
        ],
        [
         "Film, Transdermal (Extended Release) ",
         "7"
        ],
        [
         "Transdermal",
         "7"
        ],
        [
         "Tablet (Sublingual)",
         "7"
        ],
        [
         "Ophthalmic Suspension",
         "6"
        ],
        [
         "Suspension (Extended Release)",
         "5"
        ],
        [
         "Injectable Suspension ",
         "5"
        ],
        [
         "Implant",
         "5"
        ],
        [
         "Tablet (Orally Disintegrating) ",
         "4"
        ],
        [
         "Granule",
         "4"
        ],
        [
         "Capsule (Soft-Gelatin)",
         "4"
        ],
        [
         "Tablet (Buccal)",
         "4"
        ],
        [
         "Gel",
         "3"
        ],
        [
         "Otic Suspension",
         "3"
        ],
        [
         "Capsule  ",
         "3"
        ],
        [
         "Pellets",
         "3"
        ],
        [
         "Film (Buccal)",
         "3"
        ],
        [
         "For Suspension",
         "3"
        ],
        [
         "For Suspension (Extended Release)",
         "3"
        ],
        [
         "Injectable Suspension",
         "3"
        ],
        [
         "Tablet/Tablet (Copackage)",
         "3"
        ],
        [
         "Suppository",
         "3"
        ],
        [
         "Capsule (Delayed Release) ",
         "3"
        ],
        [
         "Tablet, Extended Release",
         "3"
        ],
        [
         "For Intramuscular Suspension (Extended Release)",
         "3"
        ],
        [
         "OTC Tablet (Delayed Release) ",
         "2"
        ],
        [
         "Film",
         "2"
        ],
        [
         "Ophthalmic Suspension  ",
         "2"
        ],
        [
         "Vaginal Ring",
         "2"
        ],
        [
         "Suspension, Extended Release",
         "2"
        ],
        [
         "Rectal Suppository",
         "2"
        ],
        [
         "Lozenge",
         "2"
        ],
        [
         "Tablet (Chewable) ",
         "2"
        ],
        [
         "Film (Sublingual) ",
         "2"
        ],
        [
         "Tablets",
         "2"
        ]
       ],
       "shape": {
        "columns": 1,
        "rows": 176
       }
      },
      "text/plain": [
       "Dosage Form\n",
       "Tablet                          642\n",
       "Capsule                         239\n",
       "Tablet                           99\n",
       "Tablet (Extended Release)        68\n",
       "Suspension                       55\n",
       "                               ... \n",
       "Implant (Intravitreal)            1\n",
       "Powder for Injection              1\n",
       "Tablet (for Oral Suspension)      1\n",
       "Gel (Topical)                     1\n",
       "Tablet, for Suspension            1\n",
       "Name: count, Length: 176, dtype: int64"
      ]
     },
     "execution_count": 4,
     "metadata": {},
     "output_type": "execute_result"
    }
   ],
   "source": [
    "df[df.columns[1]].value_counts()"
   ]
  },
  {
   "cell_type": "code",
   "execution_count": 5,
   "id": "64e0b846",
   "metadata": {},
   "outputs": [
    {
     "data": {
      "application/vnd.microsoft.datawrangler.viewer.v0+json": {
       "columns": [
        {
         "name": "index",
         "rawType": "int64",
         "type": "integer"
        },
        {
         "name": "Drug Name",
         "rawType": "object",
         "type": "string"
        },
        {
         "name": "Dosage Form",
         "rawType": "object",
         "type": "string"
        },
        {
         "name": "USP Apparatus",
         "rawType": "object",
         "type": "unknown"
        },
        {
         "name": "Speed (RPMs)",
         "rawType": "object",
         "type": "unknown"
        },
        {
         "name": "Medium",
         "rawType": "object",
         "type": "string"
        },
        {
         "name": "Volume (mL)",
         "rawType": "object",
         "type": "unknown"
        },
        {
         "name": "Recommended Sampling Times (minutes)",
         "rawType": "object",
         "type": "unknown"
        },
        {
         "name": "Date Updated",
         "rawType": "object",
         "type": "string"
        }
       ],
       "ref": "2f0935d1-76af-4b26-9307-4ecc0080ba78",
       "rows": [
        [
         "0",
         "Abacavir Sulfate",
         "Tablet",
         null,
         null,
         "Refer to FDA's Dissolution Guidance, 2018",
         null,
         null,
         "07/02/2020"
        ],
        [
         "1",
         "Abacavir Sulfate/Dolutegravir Sodium/Lamivudine",
         "Tablet",
         "II (Paddle)",
         "85",
         "0.01 M Phosphate Buffer with 0.5% sodium dodecyl sulfate (SDS), pH 6.8",
         "900",
         "Abacavir and lamivudine: 10, 15, 20, 30 and 45; Dolutegravir: 5,15, 25, 35 and 45.",
         "05/28/2015"
        ],
        [
         "2",
         "Abacavir Sulfate/Dolutegravir Sodium/Lamivudine",
         "Tablet (For Suspension)",
         "II (Paddle)",
         "50",
         "0.01 M Phosphate Buffer with 0.5 mM EDTA, pH 6.8",
         "500",
         "5, 10, 15, 30, 45 and 60",
         "10/06/2023"
        ],
        [
         "3",
         "Abacavir Sulfate/Lamivudine",
         "Tablet",
         "II (Paddle)",
         "75",
         "0.1 N HCl",
         "900",
         "10, 20, 30, and 45 ",
         "01/03/2007"
        ],
        [
         "4",
         "Abacavir Sulfate/Lamivudine/Zidovudine",
         "Tablet",
         "II (Paddle)",
         "75",
         "0.1 N HCl",
         "Acid Stage: 900 mL; Buffer Stage: 1000 mL",
         "5, 10, 15, 30 and 45",
         "01/03/2007"
        ]
       ],
       "shape": {
        "columns": 8,
        "rows": 5
       }
      },
      "text/html": [
       "<div>\n",
       "<style scoped>\n",
       "    .dataframe tbody tr th:only-of-type {\n",
       "        vertical-align: middle;\n",
       "    }\n",
       "\n",
       "    .dataframe tbody tr th {\n",
       "        vertical-align: top;\n",
       "    }\n",
       "\n",
       "    .dataframe thead th {\n",
       "        text-align: right;\n",
       "    }\n",
       "</style>\n",
       "<table border=\"1\" class=\"dataframe\">\n",
       "  <thead>\n",
       "    <tr style=\"text-align: right;\">\n",
       "      <th></th>\n",
       "      <th>Drug Name</th>\n",
       "      <th>Dosage Form</th>\n",
       "      <th>USP Apparatus</th>\n",
       "      <th>Speed (RPMs)</th>\n",
       "      <th>Medium</th>\n",
       "      <th>Volume (mL)</th>\n",
       "      <th>Recommended Sampling Times (minutes)</th>\n",
       "      <th>Date Updated</th>\n",
       "    </tr>\n",
       "  </thead>\n",
       "  <tbody>\n",
       "    <tr>\n",
       "      <th>0</th>\n",
       "      <td>Abacavir Sulfate</td>\n",
       "      <td>Tablet</td>\n",
       "      <td>NaN</td>\n",
       "      <td>NaN</td>\n",
       "      <td>Refer to FDA's Dissolution Guidance, 2018</td>\n",
       "      <td>NaN</td>\n",
       "      <td>NaN</td>\n",
       "      <td>07/02/2020</td>\n",
       "    </tr>\n",
       "    <tr>\n",
       "      <th>1</th>\n",
       "      <td>Abacavir Sulfate/Dolutegravir Sodium/Lamivudine</td>\n",
       "      <td>Tablet</td>\n",
       "      <td>II (Paddle)</td>\n",
       "      <td>85</td>\n",
       "      <td>0.01 M Phosphate Buffer with 0.5% sodium dodec...</td>\n",
       "      <td>900</td>\n",
       "      <td>Abacavir and lamivudine: 10, 15, 20, 30 and 45...</td>\n",
       "      <td>05/28/2015</td>\n",
       "    </tr>\n",
       "    <tr>\n",
       "      <th>2</th>\n",
       "      <td>Abacavir Sulfate/Dolutegravir Sodium/Lamivudine</td>\n",
       "      <td>Tablet (For Suspension)</td>\n",
       "      <td>II (Paddle)</td>\n",
       "      <td>50</td>\n",
       "      <td>0.01 M Phosphate Buffer with 0.5 mM EDTA, pH 6.8</td>\n",
       "      <td>500</td>\n",
       "      <td>5, 10, 15, 30, 45 and 60</td>\n",
       "      <td>10/06/2023</td>\n",
       "    </tr>\n",
       "    <tr>\n",
       "      <th>3</th>\n",
       "      <td>Abacavir Sulfate/Lamivudine</td>\n",
       "      <td>Tablet</td>\n",
       "      <td>II (Paddle)</td>\n",
       "      <td>75</td>\n",
       "      <td>0.1 N HCl</td>\n",
       "      <td>900</td>\n",
       "      <td>10, 20, 30, and 45</td>\n",
       "      <td>01/03/2007</td>\n",
       "    </tr>\n",
       "    <tr>\n",
       "      <th>4</th>\n",
       "      <td>Abacavir Sulfate/Lamivudine/Zidovudine</td>\n",
       "      <td>Tablet</td>\n",
       "      <td>II (Paddle)</td>\n",
       "      <td>75</td>\n",
       "      <td>0.1 N HCl</td>\n",
       "      <td>Acid Stage: 900 mL; Buffer Stage: 1000 mL</td>\n",
       "      <td>5, 10, 15, 30 and 45</td>\n",
       "      <td>01/03/2007</td>\n",
       "    </tr>\n",
       "  </tbody>\n",
       "</table>\n",
       "</div>"
      ],
      "text/plain": [
       "                                         Drug Name              Dosage Form  \\\n",
       "0                                 Abacavir Sulfate                   Tablet   \n",
       "1  Abacavir Sulfate/Dolutegravir Sodium/Lamivudine                   Tablet   \n",
       "2  Abacavir Sulfate/Dolutegravir Sodium/Lamivudine  Tablet (For Suspension)   \n",
       "3                      Abacavir Sulfate/Lamivudine                   Tablet   \n",
       "4           Abacavir Sulfate/Lamivudine/Zidovudine                   Tablet   \n",
       "\n",
       "  USP Apparatus Speed (RPMs)  \\\n",
       "0           NaN          NaN   \n",
       "1   II (Paddle)           85   \n",
       "2   II (Paddle)           50   \n",
       "3   II (Paddle)           75   \n",
       "4   II (Paddle)           75   \n",
       "\n",
       "                                              Medium  \\\n",
       "0          Refer to FDA's Dissolution Guidance, 2018   \n",
       "1  0.01 M Phosphate Buffer with 0.5% sodium dodec...   \n",
       "2   0.01 M Phosphate Buffer with 0.5 mM EDTA, pH 6.8   \n",
       "3                                          0.1 N HCl   \n",
       "4                                          0.1 N HCl   \n",
       "\n",
       "                                 Volume (mL)  \\\n",
       "0                                        NaN   \n",
       "1                                        900   \n",
       "2                                        500   \n",
       "3                                        900   \n",
       "4  Acid Stage: 900 mL; Buffer Stage: 1000 mL   \n",
       "\n",
       "                Recommended Sampling Times (minutes) Date Updated  \n",
       "0                                                NaN   07/02/2020  \n",
       "1  Abacavir and lamivudine: 10, 15, 20, 30 and 45...   05/28/2015  \n",
       "2                           5, 10, 15, 30, 45 and 60   10/06/2023  \n",
       "3                                10, 20, 30, and 45    01/03/2007  \n",
       "4                               5, 10, 15, 30 and 45   01/03/2007  "
      ]
     },
     "execution_count": 5,
     "metadata": {},
     "output_type": "execute_result"
    }
   ],
   "source": [
    "df.head()"
   ]
  },
  {
   "cell_type": "code",
   "execution_count": null,
   "id": "20148729",
   "metadata": {},
   "outputs": [],
   "source": [
    "# Establishing known lists for reference in clean up\n",
    "\n",
    "# Known \"Dosage Form\" release types to help detect them outside parentheses\n",
    "KNOWN_RELEASE_TYPES = [\n",
    "    \"Extended Release\", \"Delayed Release\", \"Orally Disintegrating\", \n",
    "    \"Immediate Release\", \"Controlled Release\", \"Sustained Release\", \n",
    "    \"Copackage\" # , \"For Suspension\"\n",
    "]"
   ]
  },
  {
   "cell_type": "code",
   "execution_count": null,
   "id": "a251aec4",
   "metadata": {},
   "outputs": [],
   "source": [
    "# Defining cleanup functions\n",
    "\n",
    "\n",
    "# Defining function to cleanup \"Dosage Form\" data\n",
    "def clean_dosage_form(value):\n",
    "    if pd.isna(value):\n",
    "        return (\"Unknown\", \"Unknown\")\n",
    "    \n",
    "    # Strip spaces\n",
    "    val = str(value).strip()\n",
    "\n",
    "    # # Look for release type in parentheses\n",
    "    # m = re.match(r\"^(.*?)\\s*\\((.*?)\\)$\", val)\n",
    "    \n",
    "    # Regex: capture base form + anything inside parentheses\n",
    "    # e.g. \"Tablet (Delayed Release, Orally Disintegrating)\"\n",
    "    m = re.match(r\"^(.*?)\\s*(?:\\((.+)\\))?$\", val)\n",
    "    # m = re.match(r\"^([A-Za-z ]+?)(?:\\s*\\((.+)\\))?$\", val)\n",
    "    if m:\n",
    "        dosage_form = m.group(1).strip().title()  # normalize dosage form\n",
    "        release_type = m.group(2).strip() if m.group(2) else None\n",
    "\n",
    "        # Remove trailing commas from both\n",
    "        dosage_form = dosage_form.rstrip(',').strip()\n",
    "        dosage_form = re.sub(r\"\\s+\", \" \", dosage_form)\n",
    "        if release_type:\n",
    "            release_type = release_type.rstrip(',').strip() # Note: ODT refers to Orally Disintegrating Tablet\n",
    "            release_type = re.sub(r\"\\s+\", \" \", release_type)\n",
    "            if release_type and not release_type[0].isupper():\n",
    "                release_type = release_type[0].upper() + release_type[1:]\n",
    "\n",
    "        # If no parentheses captured and there’s a comma, check for trailing release type\n",
    "        if not release_type and ',' in dosage_form:\n",
    "            parts = [p.strip() for p in dosage_form.split(',')]\n",
    "            # If last part looks like a known release type, separate it\n",
    "            if parts[-1] in KNOWN_RELEASE_TYPES:\n",
    "                release_type = parts[-1]\n",
    "                dosage_form = ', '.join(parts[:-1]).rstrip(',').strip()\n",
    "        \n",
    "        return dosage_form, release_type\n",
    "    else:\n",
    "        # fallback: keep whole thing in base, no modifiers\n",
    "        return val.rstrip(',').title(), None\n",
    "\n",
    "\n",
    "# Defining function to cleanup \"USP Apparatus\" data\n",
    "\n",
    "# def clean_usp_apparatus(value):\n",
    "#     if pd.isna(value):\n",
    "#         return \"Unknown\"\n",
    "    \n",
    "#     # Strip spaces\n",
    "#     val = str(value).strip().title()\n",
    "\n",
    "#     # Normalize common names\n",
    "#     val = re.sub(r\"\\b(USP|Apparatus|Dissolution)\\b\", \"\", val)\n",
    "\n",
    "#     # Remove extra whitespace\n",
    "#     val = re.sub(r\"\\s+\", \" \", val).strip()\n",
    "\n",
    "#     return val if val else \"Unknown\"\n",
    "\n",
    "\n",
    "# Defining function to cleanup \"Medium\" data\n",
    "\n",
    "# Defining function to cleanup \"Volume (mL)\" data\n",
    "\n",
    "# Defining function to cleanup \"Recommended Sampling Times (minutes)\" data\n",
    "\n",
    "# Defining function to cleanup \"\" data"
   ]
  },
  {
   "cell_type": "code",
   "execution_count": 14,
   "id": "06705634",
   "metadata": {},
   "outputs": [
    {
     "data": {
      "text/plain": [
       "1568"
      ]
     },
     "execution_count": 14,
     "metadata": {},
     "output_type": "execute_result"
    }
   ],
   "source": [
    "print(len(df))"
   ]
  },
  {
   "cell_type": "code",
   "execution_count": 15,
   "id": "c5b74da3",
   "metadata": {},
   "outputs": [
    {
     "data": {
      "application/vnd.microsoft.datawrangler.viewer.v0+json": {
       "columns": [
        {
         "name": "Drug Name",
         "rawType": "object",
         "type": "string"
        },
        {
         "name": "count",
         "rawType": "int64",
         "type": "integer"
        }
       ],
       "ref": "7bf7154a-cf6a-4cd2-8d71-d0eac52960a7",
       "rows": [
        [
         "Ibuprofen",
         "5"
        ],
        [
         "Methylphenidate HCl",
         "5"
        ],
        [
         "Carbidopa/Levodopa",
         "5"
        ],
        [
         "Minocycline HCl",
         "5"
        ],
        [
         "Carbamazepine",
         "5"
        ],
        [
         "Fexofenadine HCl",
         "4"
        ],
        [
         "Cefixime",
         "4"
        ],
        [
         "Risperidone",
         "4"
        ],
        [
         "Famotidine",
         "4"
        ],
        [
         "Amoxicillin",
         "4"
        ],
        [
         "Acyclovir",
         "4"
        ],
        [
         "Esomeprazole Magnesium",
         "4"
        ],
        [
         "Aripiprazole",
         "4"
        ],
        [
         "Baclofen",
         "4"
        ],
        [
         "Lamotrigine",
         "4"
        ],
        [
         "Methylphenidate",
         "4"
        ],
        [
         "Azithromycin",
         "4"
        ],
        [
         "Loperamide HCl",
         "4"
        ],
        [
         "Phendimetrazine Tartrate",
         "3"
        ],
        [
         "Alprazolam",
         "3"
        ],
        [
         "Gabapentin",
         "3"
        ],
        [
         "Clozapine",
         "3"
        ],
        [
         "Cysteamine Bitartrate",
         "3"
        ],
        [
         "Divalproex Sodium",
         "3"
        ],
        [
         "Morphine Sulfate",
         "3"
        ],
        [
         "Mycophenolate Mofetil",
         "3"
        ],
        [
         "Naproxen",
         "3"
        ],
        [
         "Naproxen Sodium",
         "3"
        ],
        [
         "Doxepin HCl",
         "3"
        ],
        [
         "Testosterone",
         "3"
        ],
        [
         "Progesterone",
         "3"
        ],
        [
         "Nevirapine",
         "3"
        ],
        [
         "Nicotine Polacrilex",
         "3"
        ],
        [
         "Dextroamphetamine Sulfate",
         "3"
        ],
        [
         "Amoxicillin/Clavulanate Potassium",
         "3"
        ],
        [
         "Phentermine HCl",
         "3"
        ],
        [
         "Tacrolimus",
         "3"
        ],
        [
         "Deferasirox",
         "3"
        ],
        [
         "Ranitidine HCl",
         "3"
        ],
        [
         "Estradiol",
         "3"
        ],
        [
         "Diclofenac Potassium",
         "3"
        ],
        [
         "Posaconazole",
         "3"
        ],
        [
         "Erythromycin Ethylsuccinate",
         "3"
        ],
        [
         "Aprepitant",
         "3"
        ],
        [
         "Oxcarbazepine",
         "3"
        ],
        [
         "Omeprazole Magnesium",
         "3"
        ],
        [
         "Nitisinone",
         "3"
        ],
        [
         "Donepezil HCl",
         "3"
        ],
        [
         "Loratadine",
         "3"
        ],
        [
         "Lithium Carbonate",
         "3"
        ]
       ],
       "shape": {
        "columns": 1,
        "rows": 1216
       }
      },
      "text/plain": [
       "Drug Name\n",
       "Ibuprofen                                 5\n",
       "Methylphenidate HCl                       5\n",
       "Carbidopa/Levodopa                        5\n",
       "Minocycline HCl                           5\n",
       "Carbamazepine                             5\n",
       "                                         ..\n",
       "Ethambutol HCl                            1\n",
       "Ethinyl Estradiol                         1\n",
       "Ethinyl Estradiol/Ethynodiol Diacetate    1\n",
       "Ethinyl Estradiol/Etonogestrel            1\n",
       "Zuranolone                                1\n",
       "Name: count, Length: 1216, dtype: int64"
      ]
     },
     "execution_count": 15,
     "metadata": {},
     "output_type": "execute_result"
    }
   ],
   "source": [
    "df[\"Drug Name\"].value_counts()"
   ]
  },
  {
   "cell_type": "code",
   "execution_count": null,
   "id": "2107476c",
   "metadata": {},
   "outputs": [],
   "source": [
    "# Running functions to clean up dataset\n",
    "\n",
    "# Apply and expand \"Dosage Form\" data into two new columns\n",
    "df[[\"Dosage Form (Clean)\", \"Release Type\"]] = df[\"Dosage Form\"].apply(lambda x: pd.Series(clean_dosage_form(x)))\n",
    "\n",
    "# # Check results\n",
    "# print(df['DosageForm_clean'].value_counts())\n",
    "# print(df['ReleaseType'].value_counts())\n",
    "\n",
    "\n",
    "# # Example transformations\n",
    "# # Performing dataset cleanup as needed before one-hot encoding\n",
    "# df['num_sampling_times'] = df['SamplingTimes'].apply(lambda x: len(str(x).split(',')))\n",
    "# df['max_sampling_time'] = df['SamplingTimes'].apply(lambda x: max([int(t) for t in str(x).split(',')]))\n",
    "\n",
    "# # One-hot encode categorical variables\n",
    "# df_encoded = pd.get_dummies(df[['Apparatus', 'MediumType', 'DosageForm']])\n",
    "\n",
    "# # Combine numeric + encoded\n",
    "# features = pd.concat([df[['RPM', 'MediumVolume', 'num_sampling_times', 'max_sampling_time']], df_encoded], axis=1)\n",
    "\n",
    "\n",
    "# # Drop non-numeric columns if needed after feature engineering is complete (sanity check)\n",
    "# df = df.select_dtypes(include=[np.number]).dropna()\n",
    "\n",
    "# features.head()"
   ]
  },
  {
   "cell_type": "code",
   "execution_count": 7,
   "id": "0b8f4383",
   "metadata": {},
   "outputs": [
    {
     "data": {
      "application/vnd.microsoft.datawrangler.viewer.v0+json": {
       "columns": [
        {
         "name": "Dosage Form (Clean)",
         "rawType": "object",
         "type": "string"
        },
        {
         "name": "count",
         "rawType": "int64",
         "type": "integer"
        }
       ],
       "ref": "9143e282-9e64-4cb2-966c-ce6a82c9f705",
       "rows": [
        [
         "Tablet",
         "971"
        ],
        [
         "Capsule",
         "335"
        ],
        [
         "Suspension",
         "67"
        ],
        [
         "Oral Suspension",
         "17"
        ],
        [
         "Film, Transdermal",
         "14"
        ],
        [
         "For Suspension",
         "11"
        ],
        [
         "Ophthalmic Suspension",
         "9"
        ],
        [
         "Film",
         "8"
        ],
        [
         "Transdermal",
         "8"
        ],
        [
         "Injectable Suspension",
         "8"
        ],
        [
         "Injectable",
         "7"
        ],
        [
         "For Oral Suspension",
         "6"
        ],
        [
         "Granule",
         "6"
        ],
        [
         "Implant",
         "6"
        ],
        [
         "Suppository",
         "5"
        ],
        [
         "Gel",
         "4"
        ],
        [
         "Vaginal Insert",
         "3"
        ],
        [
         "Tablet/Tablet",
         "3"
        ],
        [
         "Rectal Suppository",
         "3"
        ],
        [
         "Capsules",
         "3"
        ],
        [
         "Otic Suspension",
         "3"
        ],
        [
         "Tablet, For Suspension",
         "3"
        ],
        [
         "Pellets",
         "3"
        ],
        [
         "Powder For Suspension",
         "3"
        ],
        [
         "Otc Tablet",
         "3"
        ],
        [
         "Lozenge",
         "3"
        ],
        [
         "Topical Patch",
         "3"
        ],
        [
         "For Intramuscular Suspension",
         "3"
        ],
        [
         "Transdermal System",
         "2"
        ],
        [
         "Granules",
         "2"
        ],
        [
         "Vaginal Ring",
         "2"
        ],
        [
         "Capsule/Tablet/Capsule",
         "2"
        ],
        [
         "Intramuscular Suspension",
         "2"
        ],
        [
         "Tablets",
         "2"
        ],
        [
         "Powder",
         "2"
        ],
        [
         "Powder For Oral",
         "2"
        ],
        [
         "Emulsion",
         "2"
        ],
        [
         "Solution",
         "1"
        ],
        [
         "Delayed Release Granules For Oral Suspension",
         "1"
        ],
        [
         "Trans-Dermal",
         "1"
        ],
        [
         "Capsule, Tablet",
         "1"
        ],
        [
         "Chewing Gum",
         "1"
        ],
        [
         "Granules, For Oral Suspension",
         "1"
        ],
        [
         "Buccal Tablet",
         "1"
        ],
        [
         "Er Tablets",
         "1"
        ],
        [
         "Capsule, Tablet, Tablet",
         "1"
        ],
        [
         "Pellet Implant",
         "1"
        ],
        [
         "Transdermal Patch",
         "1"
        ],
        [
         "Rectal Enema",
         "1"
        ],
        [
         "Intrauterine Device",
         "1"
        ]
       ],
       "shape": {
        "columns": 1,
        "rows": 69
       }
      },
      "text/plain": [
       "Dosage Form (Clean)\n",
       "Tablet                             971\n",
       "Capsule                            335\n",
       "Suspension                          67\n",
       "Oral Suspension                     17\n",
       "Film, Transdermal                   14\n",
       "                                  ... \n",
       "Vaginal Tablet                       1\n",
       "Lozenges                             1\n",
       "Tablet (Extended Release             1\n",
       "Suspension/Drop                      1\n",
       "Intra-Articular, For Suspension      1\n",
       "Name: count, Length: 69, dtype: int64"
      ]
     },
     "execution_count": 7,
     "metadata": {},
     "output_type": "execute_result"
    }
   ],
   "source": [
    "df[df.columns[-2]].value_counts()"
   ]
  },
  {
   "cell_type": "code",
   "execution_count": 8,
   "id": "710771dd",
   "metadata": {},
   "outputs": [
    {
     "data": {
      "application/vnd.microsoft.datawrangler.viewer.v0+json": {
       "columns": [
        {
         "name": "Release Type",
         "rawType": "object",
         "type": "string"
        },
        {
         "name": "count",
         "rawType": "int64",
         "type": "integer"
        }
       ],
       "ref": "99d9e623-3128-4990-b829-6eead78c3554",
       "rows": [
        [
         "Extended Release",
         "209"
        ],
        [
         "Delayed Release",
         "51"
        ],
        [
         "Chewable",
         "26"
        ],
        [
         "Orally Disintegrating",
         "24"
        ],
        [
         "Sublingual",
         "10"
        ],
        [
         "Copackage",
         "8"
        ],
        [
         "Buccal",
         "7"
        ],
        [
         "Soft-Gelatin",
         "5"
        ],
        [
         "Orally Disintegrating (ODT)",
         "4"
        ],
        [
         "Vaginal",
         "3"
        ],
        [
         "For Suspension",
         "2"
        ],
        [
         "Soft-Gelatin/Liquid Fill",
         "2"
        ],
        [
         "Delayed Release Pellets",
         "2"
        ],
        [
         "Delayed Release, Orally Disintegrating",
         "2"
        ],
        [
         "Sprinkle",
         "2"
        ],
        [
         "Liposomal",
         "2"
        ],
        [
         "Extended Release, Orally Disintegrating",
         "2"
        ],
        [
         "Effervescent",
         "2"
        ],
        [
         "Dental",
         "1"
        ],
        [
         "Chewable dispersible",
         "1"
        ],
        [
         "Pediatric",
         "1"
        ],
        [
         "Copackaged",
         "1"
        ],
        [
         "Oral",
         "1"
        ],
        [
         "Immediate Release",
         "1"
        ],
        [
         "Mini",
         "1"
        ],
        [
         "Extended Release, Chewable",
         "1"
        ],
        [
         "Combination",
         "1"
        ],
        [
         "Regular",
         "1"
        ],
        [
         "Micronized",
         "1"
        ],
        [
         "Regular & Chewable",
         "1"
        ],
        [
         "Orally Disintegrating, Delayed Release",
         "1"
        ],
        [
         "Pellet",
         "1"
        ],
        [
         "Intravitreal",
         "1"
        ],
        [
         "For Oral Suspension",
         "1"
        ],
        [
         "Enteral",
         "1"
        ],
        [
         "Intravenous",
         "1"
        ],
        [
         "Liquid filled",
         "1"
        ],
        [
         "Topical",
         "1"
        ]
       ],
       "shape": {
        "columns": 1,
        "rows": 38
       }
      },
      "text/plain": [
       "Release Type\n",
       "Extended Release                           209\n",
       "Delayed Release                             51\n",
       "Chewable                                    26\n",
       "Orally Disintegrating                       24\n",
       "Sublingual                                  10\n",
       "Copackage                                    8\n",
       "Buccal                                       7\n",
       "Soft-Gelatin                                 5\n",
       "Orally Disintegrating (ODT)                  4\n",
       "Vaginal                                      3\n",
       "For Suspension                               2\n",
       "Soft-Gelatin/Liquid Fill                     2\n",
       "Delayed Release Pellets                      2\n",
       "Delayed Release, Orally Disintegrating       2\n",
       "Sprinkle                                     2\n",
       "Liposomal                                    2\n",
       "Extended Release, Orally Disintegrating      2\n",
       "Effervescent                                 2\n",
       "Dental                                       1\n",
       "Chewable dispersible                         1\n",
       "Pediatric                                    1\n",
       "Copackaged                                   1\n",
       "Oral                                         1\n",
       "Immediate Release                            1\n",
       "Mini                                         1\n",
       "Extended Release, Chewable                   1\n",
       "Combination                                  1\n",
       "Regular                                      1\n",
       "Micronized                                   1\n",
       "Regular & Chewable                           1\n",
       "Orally Disintegrating, Delayed Release       1\n",
       "Pellet                                       1\n",
       "Intravitreal                                 1\n",
       "For Oral Suspension                          1\n",
       "Enteral                                      1\n",
       "Intravenous                                  1\n",
       "Liquid filled                                1\n",
       "Topical                                      1\n",
       "Name: count, dtype: int64"
      ]
     },
     "execution_count": 8,
     "metadata": {},
     "output_type": "execute_result"
    }
   ],
   "source": [
    "df[df.columns[-1]].value_counts()"
   ]
  },
  {
   "cell_type": "markdown",
   "id": "9a559d59",
   "metadata": {},
   "source": [
    "#### 3.2. Preprocessing\n",
    "\n",
    "In this case, all of the columns except the target column are going to be used to predict the target column.\n",
    "\n",
    "In other words, using a patient's medical and demographic data to predict whether or not they have heart disease."
   ]
  },
  {
   "cell_type": "code",
   "execution_count": 9,
   "id": "cbfeb707",
   "metadata": {},
   "outputs": [
    {
     "ename": "NameError",
     "evalue": "name 'heart_disease' is not defined",
     "output_type": "error",
     "traceback": [
      "\u001b[31m---------------------------------------------------------------------------\u001b[39m",
      "\u001b[31mNameError\u001b[39m                                 Traceback (most recent call last)",
      "\u001b[36mCell\u001b[39m\u001b[36m \u001b[39m\u001b[32mIn[9]\u001b[39m\u001b[32m, line 2\u001b[39m\n\u001b[32m      1\u001b[39m \u001b[38;5;66;03m# Create X (all the feature columns)\u001b[39;00m\n\u001b[32m----> \u001b[39m\u001b[32m2\u001b[39m X = heart_disease.drop(\u001b[33m\"\u001b[39m\u001b[33mtarget\u001b[39m\u001b[33m\"\u001b[39m, axis=\u001b[32m1\u001b[39m)\n\u001b[32m      4\u001b[39m \u001b[38;5;66;03m# Create y (the target column)\u001b[39;00m\n\u001b[32m      5\u001b[39m y = heart_disease[\u001b[33m\"\u001b[39m\u001b[33mtarget\u001b[39m\u001b[33m\"\u001b[39m]\n",
      "\u001b[31mNameError\u001b[39m: name 'heart_disease' is not defined"
     ]
    }
   ],
   "source": [
    "# Create X (all the feature columns)\n",
    "X = heart_disease.drop(\"target\", axis=1)\n",
    "\n",
    "# Create y (the target column)\n",
    "y = heart_disease[\"target\"]"
   ]
  },
  {
   "cell_type": "code",
   "execution_count": null,
   "id": "f749a0d4",
   "metadata": {},
   "outputs": [],
   "source": [
    "# Split the data into training and test sets\n",
    "from sklearn.model_selection import train_test_split\n",
    "\n",
    "X_train, X_test, y_train, y_test = train_test_split(X, y)\n",
    "\n",
    "# View the data shapes\n",
    "X_train.shape, X_test.shape, y_train.shape, y_test.shape"
   ]
  },
  {
   "cell_type": "code",
   "execution_count": null,
   "id": "3dcb8999",
   "metadata": {},
   "outputs": [],
   "source": []
  }
 ],
 "metadata": {
  "kernelspec": {
   "display_name": "Python 3",
   "language": "python",
   "name": "python3"
  },
  "language_info": {
   "codemirror_mode": {
    "name": "ipython",
    "version": 3
   },
   "file_extension": ".py",
   "mimetype": "text/x-python",
   "name": "python",
   "nbconvert_exporter": "python",
   "pygments_lexer": "ipython3",
   "version": "3.11.13"
  }
 },
 "nbformat": 4,
 "nbformat_minor": 5
}
